{
 "cells": [
  {
   "cell_type": "markdown",
   "metadata": {
    "button": false,
    "deletable": true,
    "new_sheet": false,
    "run_control": {
     "read_only": false
    }
   },
   "source": [
    "<a href=\"https://cognitiveclass.ai/?utm_medium=Exinfluencer&utm_source=Exinfluencer&utm_content=000026UJ&utm_term=10006555&utm_id=NA-SkillsNetwork-Channel-SkillsNetworkCoursesIBMDeveloperSkillsNetworkDL0101ENSkillsNetwork20718188-2021-01-01\"><img src = \"https://s3-api.us-geo.objectstorage.softlayer.net/cf-courses-data/CognitiveClass/Logos/organization_logo/organization_logo.png\" width = 400> </a>\n",
    "\n",
    "<h1 align=center><font size = 5>Regression Models with Keras</font></h1>\n"
   ]
  },
  {
   "cell_type": "markdown",
   "metadata": {
    "button": false,
    "deletable": true,
    "new_sheet": false,
    "run_control": {
     "read_only": false
    }
   },
   "source": [
    "## Introduction\n"
   ]
  },
  {
   "cell_type": "markdown",
   "metadata": {
    "button": false,
    "deletable": true,
    "new_sheet": false,
    "run_control": {
     "read_only": false
    }
   },
   "source": [
    "As we discussed in the videos, despite the popularity of more powerful libraries such as PyToch and TensorFlow, they are not easy to use and have a steep learning curve. So, for people who are just starting to learn deep learning, there is no better library to use other than the Keras library.\n",
    "\n",
    "Keras is a high-level API for building deep learning models. It has gained favor for its ease of use and syntactic simplicity facilitating fast development. As you will see in this lab and the other labs in this course, building a very complex deep learning network can be achieved with Keras with only few lines of code. You will appreciate Keras even more, once you learn how to build deep models using PyTorch and TensorFlow in the other courses.\n",
    "\n",
    "So, in this lab, you will learn how to use the Keras library to build a regression model.\n"
   ]
  },
  {
   "cell_type": "markdown",
   "metadata": {},
   "source": [
    "<h2>Regression Models with Keras</h2>\n",
    "\n",
    "<h3>Objective for this Notebook<h3>    \n",
    "<h5> 1. How to use the Keras library to build a regression model.</h5>\n",
    "<h5> 2. Download and Clean dataset </h5>\n",
    "<h5> 3. Build a Neural Network </h5>\n",
    "<h5> 4. Train and Test the Network. </h5>     \n"
   ]
  },
  {
   "cell_type": "markdown",
   "metadata": {
    "button": false,
    "deletable": true,
    "new_sheet": false,
    "run_control": {
     "read_only": false
    }
   },
   "source": [
    "## Table of Contents\n",
    "\n",
    "<div class=\"alert alert-block alert-info\" style=\"margin-top: 20px\">\n",
    "\n",
    "<font size = 3>\n",
    "\n",
    "1.  <a href=\"https://#item31\">Download and Clean Dataset</a>\n",
    "2.  <a href=\"https://#item32\">Import Keras</a>\n",
    "3.  <a href=\"https://#item33\">Build a Neural Network</a>\n",
    "4.  <a href=\"https://#item34\">Train and Test the Network</a>\n",
    "\n",
    "</font>\n",
    "</div>\n"
   ]
  },
  {
   "cell_type": "markdown",
   "metadata": {
    "button": false,
    "deletable": true,
    "new_sheet": false,
    "run_control": {
     "read_only": false
    }
   },
   "source": [
    "<a id=\"item31\"></a>\n"
   ]
  },
  {
   "cell_type": "markdown",
   "metadata": {
    "button": false,
    "deletable": true,
    "new_sheet": false,
    "run_control": {
     "read_only": false
    }
   },
   "source": [
    "## Download and Clean Dataset\n"
   ]
  },
  {
   "cell_type": "markdown",
   "metadata": {
    "button": false,
    "deletable": true,
    "new_sheet": false,
    "run_control": {
     "read_only": false
    }
   },
   "source": [
    "Let's start by importing the <em>pandas</em> and the Numpy libraries.\n"
   ]
  },
  {
   "cell_type": "code",
   "execution_count": null,
   "metadata": {},
   "outputs": [],
   "source": [
    "# All Libraries required for this lab are listed below. The libraries pre-installed on Skills Network Labs are commented. \n",
    "# If you run this notebook on a different environment, e.g. your desktop, you may need to uncomment and install certain libraries.\n",
    "\n",
    "#!pip install numpy==1.21.4\n",
    "#!pip install pandas==1.3.4\n",
    "#!pip install keras==2.1.6"
   ]
  },
  {
   "cell_type": "code",
   "execution_count": 1,
   "metadata": {
    "button": false,
    "deletable": true,
    "new_sheet": false,
    "run_control": {
     "read_only": false
    }
   },
   "outputs": [],
   "source": [
    "import pandas as pd\n",
    "import numpy as np"
   ]
  },
  {
   "cell_type": "markdown",
   "metadata": {
    "button": false,
    "deletable": true,
    "new_sheet": false,
    "run_control": {
     "read_only": false
    }
   },
   "source": [
    "We will be playing around with the same dataset that we used in the videos.\n",
    "\n",
    "<strong>The dataset is about the compressive strength of different samples of concrete based on the volumes of the different ingredients that were used to make them. Ingredients include:</strong>\n",
    "\n",
    "<strong>1. Cement</strong>\n",
    "\n",
    "<strong>2. Blast Furnace Slag</strong>\n",
    "\n",
    "<strong>3. Fly Ash</strong>\n",
    "\n",
    "<strong>4. Water</strong>\n",
    "\n",
    "<strong>5. Superplasticizer</strong>\n",
    "\n",
    "<strong>6. Coarse Aggregate</strong>\n",
    "\n",
    "<strong>7. Fine Aggregate</strong>\n"
   ]
  },
  {
   "cell_type": "markdown",
   "metadata": {
    "button": false,
    "deletable": true,
    "new_sheet": false,
    "run_control": {
     "read_only": false
    }
   },
   "source": [
    "Let's download the data and read it into a <em>pandas</em> dataframe.\n"
   ]
  },
  {
   "cell_type": "code",
   "execution_count": 2,
   "metadata": {
    "button": false,
    "deletable": true,
    "new_sheet": false,
    "run_control": {
     "read_only": false
    }
   },
   "outputs": [
    {
     "data": {
      "text/html": [
       "<div>\n",
       "<style scoped>\n",
       "    .dataframe tbody tr th:only-of-type {\n",
       "        vertical-align: middle;\n",
       "    }\n",
       "\n",
       "    .dataframe tbody tr th {\n",
       "        vertical-align: top;\n",
       "    }\n",
       "\n",
       "    .dataframe thead th {\n",
       "        text-align: right;\n",
       "    }\n",
       "</style>\n",
       "<table border=\"1\" class=\"dataframe\">\n",
       "  <thead>\n",
       "    <tr style=\"text-align: right;\">\n",
       "      <th></th>\n",
       "      <th>Cement</th>\n",
       "      <th>Blast Furnace Slag</th>\n",
       "      <th>Fly Ash</th>\n",
       "      <th>Water</th>\n",
       "      <th>Superplasticizer</th>\n",
       "      <th>Coarse Aggregate</th>\n",
       "      <th>Fine Aggregate</th>\n",
       "      <th>Age</th>\n",
       "      <th>Strength</th>\n",
       "    </tr>\n",
       "  </thead>\n",
       "  <tbody>\n",
       "    <tr>\n",
       "      <th>0</th>\n",
       "      <td>540.0</td>\n",
       "      <td>0.0</td>\n",
       "      <td>0.0</td>\n",
       "      <td>162.0</td>\n",
       "      <td>2.5</td>\n",
       "      <td>1040.0</td>\n",
       "      <td>676.0</td>\n",
       "      <td>28</td>\n",
       "      <td>79.99</td>\n",
       "    </tr>\n",
       "    <tr>\n",
       "      <th>1</th>\n",
       "      <td>540.0</td>\n",
       "      <td>0.0</td>\n",
       "      <td>0.0</td>\n",
       "      <td>162.0</td>\n",
       "      <td>2.5</td>\n",
       "      <td>1055.0</td>\n",
       "      <td>676.0</td>\n",
       "      <td>28</td>\n",
       "      <td>61.89</td>\n",
       "    </tr>\n",
       "    <tr>\n",
       "      <th>2</th>\n",
       "      <td>332.5</td>\n",
       "      <td>142.5</td>\n",
       "      <td>0.0</td>\n",
       "      <td>228.0</td>\n",
       "      <td>0.0</td>\n",
       "      <td>932.0</td>\n",
       "      <td>594.0</td>\n",
       "      <td>270</td>\n",
       "      <td>40.27</td>\n",
       "    </tr>\n",
       "    <tr>\n",
       "      <th>3</th>\n",
       "      <td>332.5</td>\n",
       "      <td>142.5</td>\n",
       "      <td>0.0</td>\n",
       "      <td>228.0</td>\n",
       "      <td>0.0</td>\n",
       "      <td>932.0</td>\n",
       "      <td>594.0</td>\n",
       "      <td>365</td>\n",
       "      <td>41.05</td>\n",
       "    </tr>\n",
       "    <tr>\n",
       "      <th>4</th>\n",
       "      <td>198.6</td>\n",
       "      <td>132.4</td>\n",
       "      <td>0.0</td>\n",
       "      <td>192.0</td>\n",
       "      <td>0.0</td>\n",
       "      <td>978.4</td>\n",
       "      <td>825.5</td>\n",
       "      <td>360</td>\n",
       "      <td>44.30</td>\n",
       "    </tr>\n",
       "  </tbody>\n",
       "</table>\n",
       "</div>"
      ],
      "text/plain": [
       "   Cement  Blast Furnace Slag  Fly Ash  Water  Superplasticizer  \\\n",
       "0   540.0                 0.0      0.0  162.0               2.5   \n",
       "1   540.0                 0.0      0.0  162.0               2.5   \n",
       "2   332.5               142.5      0.0  228.0               0.0   \n",
       "3   332.5               142.5      0.0  228.0               0.0   \n",
       "4   198.6               132.4      0.0  192.0               0.0   \n",
       "\n",
       "   Coarse Aggregate  Fine Aggregate  Age  Strength  \n",
       "0            1040.0           676.0   28     79.99  \n",
       "1            1055.0           676.0   28     61.89  \n",
       "2             932.0           594.0  270     40.27  \n",
       "3             932.0           594.0  365     41.05  \n",
       "4             978.4           825.5  360     44.30  "
      ]
     },
     "execution_count": 2,
     "metadata": {},
     "output_type": "execute_result"
    }
   ],
   "source": [
    "concrete_data = pd.read_csv('https://s3-api.us-geo.objectstorage.softlayer.net/cf-courses-data/CognitiveClass/DL0101EN/labs/data/concrete_data.csv')\n",
    "concrete_data.head()"
   ]
  },
  {
   "cell_type": "markdown",
   "metadata": {
    "button": false,
    "deletable": true,
    "new_sheet": false,
    "run_control": {
     "read_only": false
    }
   },
   "source": [
    "So the first concrete sample has 540 cubic meter of cement, 0 cubic meter of blast furnace slag, 0 cubic meter of fly ash, 162 cubic meter of water, 2.5 cubic meter of superplaticizer, 1040 cubic meter of coarse aggregate, 676 cubic meter of fine aggregate. Such a concrete mix which is 28 days old, has a compressive strength of 79.99 MPa.\n"
   ]
  },
  {
   "cell_type": "markdown",
   "metadata": {
    "button": false,
    "deletable": true,
    "new_sheet": false,
    "run_control": {
     "read_only": false
    }
   },
   "source": [
    "#### Let's check how many data points we have.\n"
   ]
  },
  {
   "cell_type": "code",
   "execution_count": 3,
   "metadata": {
    "button": false,
    "deletable": true,
    "new_sheet": false,
    "run_control": {
     "read_only": false
    }
   },
   "outputs": [
    {
     "data": {
      "text/plain": [
       "(1030, 9)"
      ]
     },
     "execution_count": 3,
     "metadata": {},
     "output_type": "execute_result"
    }
   ],
   "source": [
    "concrete_data.shape"
   ]
  },
  {
   "cell_type": "markdown",
   "metadata": {
    "button": false,
    "deletable": true,
    "new_sheet": false,
    "run_control": {
     "read_only": false
    }
   },
   "source": [
    "So, there are approximately 1000 samples to train our model on. Because of the few samples, we have to be careful not to overfit the training data.\n"
   ]
  },
  {
   "cell_type": "markdown",
   "metadata": {
    "button": false,
    "deletable": true,
    "new_sheet": false,
    "run_control": {
     "read_only": false
    }
   },
   "source": [
    "Let's check the dataset for any missing values.\n"
   ]
  },
  {
   "cell_type": "code",
   "execution_count": 4,
   "metadata": {
    "button": false,
    "deletable": true,
    "new_sheet": false,
    "run_control": {
     "read_only": false
    }
   },
   "outputs": [
    {
     "data": {
      "text/html": [
       "<div>\n",
       "<style scoped>\n",
       "    .dataframe tbody tr th:only-of-type {\n",
       "        vertical-align: middle;\n",
       "    }\n",
       "\n",
       "    .dataframe tbody tr th {\n",
       "        vertical-align: top;\n",
       "    }\n",
       "\n",
       "    .dataframe thead th {\n",
       "        text-align: right;\n",
       "    }\n",
       "</style>\n",
       "<table border=\"1\" class=\"dataframe\">\n",
       "  <thead>\n",
       "    <tr style=\"text-align: right;\">\n",
       "      <th></th>\n",
       "      <th>Cement</th>\n",
       "      <th>Blast Furnace Slag</th>\n",
       "      <th>Fly Ash</th>\n",
       "      <th>Water</th>\n",
       "      <th>Superplasticizer</th>\n",
       "      <th>Coarse Aggregate</th>\n",
       "      <th>Fine Aggregate</th>\n",
       "      <th>Age</th>\n",
       "      <th>Strength</th>\n",
       "    </tr>\n",
       "  </thead>\n",
       "  <tbody>\n",
       "    <tr>\n",
       "      <th>count</th>\n",
       "      <td>1030.000000</td>\n",
       "      <td>1030.000000</td>\n",
       "      <td>1030.000000</td>\n",
       "      <td>1030.000000</td>\n",
       "      <td>1030.000000</td>\n",
       "      <td>1030.000000</td>\n",
       "      <td>1030.000000</td>\n",
       "      <td>1030.000000</td>\n",
       "      <td>1030.000000</td>\n",
       "    </tr>\n",
       "    <tr>\n",
       "      <th>mean</th>\n",
       "      <td>281.167864</td>\n",
       "      <td>73.895825</td>\n",
       "      <td>54.188350</td>\n",
       "      <td>181.567282</td>\n",
       "      <td>6.204660</td>\n",
       "      <td>972.918932</td>\n",
       "      <td>773.580485</td>\n",
       "      <td>45.662136</td>\n",
       "      <td>35.817961</td>\n",
       "    </tr>\n",
       "    <tr>\n",
       "      <th>std</th>\n",
       "      <td>104.506364</td>\n",
       "      <td>86.279342</td>\n",
       "      <td>63.997004</td>\n",
       "      <td>21.354219</td>\n",
       "      <td>5.973841</td>\n",
       "      <td>77.753954</td>\n",
       "      <td>80.175980</td>\n",
       "      <td>63.169912</td>\n",
       "      <td>16.705742</td>\n",
       "    </tr>\n",
       "    <tr>\n",
       "      <th>min</th>\n",
       "      <td>102.000000</td>\n",
       "      <td>0.000000</td>\n",
       "      <td>0.000000</td>\n",
       "      <td>121.800000</td>\n",
       "      <td>0.000000</td>\n",
       "      <td>801.000000</td>\n",
       "      <td>594.000000</td>\n",
       "      <td>1.000000</td>\n",
       "      <td>2.330000</td>\n",
       "    </tr>\n",
       "    <tr>\n",
       "      <th>25%</th>\n",
       "      <td>192.375000</td>\n",
       "      <td>0.000000</td>\n",
       "      <td>0.000000</td>\n",
       "      <td>164.900000</td>\n",
       "      <td>0.000000</td>\n",
       "      <td>932.000000</td>\n",
       "      <td>730.950000</td>\n",
       "      <td>7.000000</td>\n",
       "      <td>23.710000</td>\n",
       "    </tr>\n",
       "    <tr>\n",
       "      <th>50%</th>\n",
       "      <td>272.900000</td>\n",
       "      <td>22.000000</td>\n",
       "      <td>0.000000</td>\n",
       "      <td>185.000000</td>\n",
       "      <td>6.400000</td>\n",
       "      <td>968.000000</td>\n",
       "      <td>779.500000</td>\n",
       "      <td>28.000000</td>\n",
       "      <td>34.445000</td>\n",
       "    </tr>\n",
       "    <tr>\n",
       "      <th>75%</th>\n",
       "      <td>350.000000</td>\n",
       "      <td>142.950000</td>\n",
       "      <td>118.300000</td>\n",
       "      <td>192.000000</td>\n",
       "      <td>10.200000</td>\n",
       "      <td>1029.400000</td>\n",
       "      <td>824.000000</td>\n",
       "      <td>56.000000</td>\n",
       "      <td>46.135000</td>\n",
       "    </tr>\n",
       "    <tr>\n",
       "      <th>max</th>\n",
       "      <td>540.000000</td>\n",
       "      <td>359.400000</td>\n",
       "      <td>200.100000</td>\n",
       "      <td>247.000000</td>\n",
       "      <td>32.200000</td>\n",
       "      <td>1145.000000</td>\n",
       "      <td>992.600000</td>\n",
       "      <td>365.000000</td>\n",
       "      <td>82.600000</td>\n",
       "    </tr>\n",
       "  </tbody>\n",
       "</table>\n",
       "</div>"
      ],
      "text/plain": [
       "            Cement  Blast Furnace Slag      Fly Ash        Water  \\\n",
       "count  1030.000000         1030.000000  1030.000000  1030.000000   \n",
       "mean    281.167864           73.895825    54.188350   181.567282   \n",
       "std     104.506364           86.279342    63.997004    21.354219   \n",
       "min     102.000000            0.000000     0.000000   121.800000   \n",
       "25%     192.375000            0.000000     0.000000   164.900000   \n",
       "50%     272.900000           22.000000     0.000000   185.000000   \n",
       "75%     350.000000          142.950000   118.300000   192.000000   \n",
       "max     540.000000          359.400000   200.100000   247.000000   \n",
       "\n",
       "       Superplasticizer  Coarse Aggregate  Fine Aggregate          Age  \\\n",
       "count       1030.000000       1030.000000     1030.000000  1030.000000   \n",
       "mean           6.204660        972.918932      773.580485    45.662136   \n",
       "std            5.973841         77.753954       80.175980    63.169912   \n",
       "min            0.000000        801.000000      594.000000     1.000000   \n",
       "25%            0.000000        932.000000      730.950000     7.000000   \n",
       "50%            6.400000        968.000000      779.500000    28.000000   \n",
       "75%           10.200000       1029.400000      824.000000    56.000000   \n",
       "max           32.200000       1145.000000      992.600000   365.000000   \n",
       "\n",
       "          Strength  \n",
       "count  1030.000000  \n",
       "mean     35.817961  \n",
       "std      16.705742  \n",
       "min       2.330000  \n",
       "25%      23.710000  \n",
       "50%      34.445000  \n",
       "75%      46.135000  \n",
       "max      82.600000  "
      ]
     },
     "execution_count": 4,
     "metadata": {},
     "output_type": "execute_result"
    }
   ],
   "source": [
    "concrete_data.describe()"
   ]
  },
  {
   "cell_type": "code",
   "execution_count": 5,
   "metadata": {
    "button": false,
    "deletable": true,
    "new_sheet": false,
    "run_control": {
     "read_only": false
    }
   },
   "outputs": [
    {
     "data": {
      "text/plain": [
       "Cement                0\n",
       "Blast Furnace Slag    0\n",
       "Fly Ash               0\n",
       "Water                 0\n",
       "Superplasticizer      0\n",
       "Coarse Aggregate      0\n",
       "Fine Aggregate        0\n",
       "Age                   0\n",
       "Strength              0\n",
       "dtype: int64"
      ]
     },
     "execution_count": 5,
     "metadata": {},
     "output_type": "execute_result"
    }
   ],
   "source": [
    "concrete_data.isnull().sum()"
   ]
  },
  {
   "cell_type": "markdown",
   "metadata": {
    "button": false,
    "deletable": true,
    "new_sheet": false,
    "run_control": {
     "read_only": false
    }
   },
   "source": [
    "The data looks very clean and is ready to be used to build our model.\n"
   ]
  },
  {
   "cell_type": "markdown",
   "metadata": {
    "button": false,
    "deletable": true,
    "new_sheet": false,
    "run_control": {
     "read_only": false
    }
   },
   "source": [
    "#### Split data into predictors and target\n"
   ]
  },
  {
   "cell_type": "markdown",
   "metadata": {},
   "source": [
    "The target variable in this problem is the concrete sample strength. Therefore, our predictors will be all the other columns.\n"
   ]
  },
  {
   "cell_type": "code",
   "execution_count": 6,
   "metadata": {
    "button": false,
    "deletable": true,
    "new_sheet": false,
    "run_control": {
     "read_only": false
    }
   },
   "outputs": [],
   "source": [
    "concrete_data_columns = concrete_data.columns\n",
    "\n",
    "predictors = concrete_data[concrete_data_columns[concrete_data_columns != 'Strength']] # all columns except Strength\n",
    "target = concrete_data['Strength'] # Strength column"
   ]
  },
  {
   "cell_type": "markdown",
   "metadata": {
    "button": false,
    "deletable": true,
    "jupyter": {
     "source_hidden": true
    },
    "new_sheet": false,
    "run_control": {
     "read_only": false
    },
    "tags": []
   },
   "source": [
    "<a id=\"item2\"></a>\n"
   ]
  },
  {
   "cell_type": "markdown",
   "metadata": {
    "button": false,
    "deletable": true,
    "new_sheet": false,
    "run_control": {
     "read_only": false
    }
   },
   "source": [
    "Let's do a quick sanity check of the predictors and the target dataframes.\n"
   ]
  },
  {
   "cell_type": "code",
   "execution_count": 7,
   "metadata": {
    "button": false,
    "deletable": true,
    "new_sheet": false,
    "run_control": {
     "read_only": false
    }
   },
   "outputs": [
    {
     "data": {
      "text/html": [
       "<div>\n",
       "<style scoped>\n",
       "    .dataframe tbody tr th:only-of-type {\n",
       "        vertical-align: middle;\n",
       "    }\n",
       "\n",
       "    .dataframe tbody tr th {\n",
       "        vertical-align: top;\n",
       "    }\n",
       "\n",
       "    .dataframe thead th {\n",
       "        text-align: right;\n",
       "    }\n",
       "</style>\n",
       "<table border=\"1\" class=\"dataframe\">\n",
       "  <thead>\n",
       "    <tr style=\"text-align: right;\">\n",
       "      <th></th>\n",
       "      <th>Cement</th>\n",
       "      <th>Blast Furnace Slag</th>\n",
       "      <th>Fly Ash</th>\n",
       "      <th>Water</th>\n",
       "      <th>Superplasticizer</th>\n",
       "      <th>Coarse Aggregate</th>\n",
       "      <th>Fine Aggregate</th>\n",
       "      <th>Age</th>\n",
       "    </tr>\n",
       "  </thead>\n",
       "  <tbody>\n",
       "    <tr>\n",
       "      <th>0</th>\n",
       "      <td>540.0</td>\n",
       "      <td>0.0</td>\n",
       "      <td>0.0</td>\n",
       "      <td>162.0</td>\n",
       "      <td>2.5</td>\n",
       "      <td>1040.0</td>\n",
       "      <td>676.0</td>\n",
       "      <td>28</td>\n",
       "    </tr>\n",
       "    <tr>\n",
       "      <th>1</th>\n",
       "      <td>540.0</td>\n",
       "      <td>0.0</td>\n",
       "      <td>0.0</td>\n",
       "      <td>162.0</td>\n",
       "      <td>2.5</td>\n",
       "      <td>1055.0</td>\n",
       "      <td>676.0</td>\n",
       "      <td>28</td>\n",
       "    </tr>\n",
       "    <tr>\n",
       "      <th>2</th>\n",
       "      <td>332.5</td>\n",
       "      <td>142.5</td>\n",
       "      <td>0.0</td>\n",
       "      <td>228.0</td>\n",
       "      <td>0.0</td>\n",
       "      <td>932.0</td>\n",
       "      <td>594.0</td>\n",
       "      <td>270</td>\n",
       "    </tr>\n",
       "    <tr>\n",
       "      <th>3</th>\n",
       "      <td>332.5</td>\n",
       "      <td>142.5</td>\n",
       "      <td>0.0</td>\n",
       "      <td>228.0</td>\n",
       "      <td>0.0</td>\n",
       "      <td>932.0</td>\n",
       "      <td>594.0</td>\n",
       "      <td>365</td>\n",
       "    </tr>\n",
       "    <tr>\n",
       "      <th>4</th>\n",
       "      <td>198.6</td>\n",
       "      <td>132.4</td>\n",
       "      <td>0.0</td>\n",
       "      <td>192.0</td>\n",
       "      <td>0.0</td>\n",
       "      <td>978.4</td>\n",
       "      <td>825.5</td>\n",
       "      <td>360</td>\n",
       "    </tr>\n",
       "  </tbody>\n",
       "</table>\n",
       "</div>"
      ],
      "text/plain": [
       "   Cement  Blast Furnace Slag  Fly Ash  Water  Superplasticizer  \\\n",
       "0   540.0                 0.0      0.0  162.0               2.5   \n",
       "1   540.0                 0.0      0.0  162.0               2.5   \n",
       "2   332.5               142.5      0.0  228.0               0.0   \n",
       "3   332.5               142.5      0.0  228.0               0.0   \n",
       "4   198.6               132.4      0.0  192.0               0.0   \n",
       "\n",
       "   Coarse Aggregate  Fine Aggregate  Age  \n",
       "0            1040.0           676.0   28  \n",
       "1            1055.0           676.0   28  \n",
       "2             932.0           594.0  270  \n",
       "3             932.0           594.0  365  \n",
       "4             978.4           825.5  360  "
      ]
     },
     "execution_count": 7,
     "metadata": {},
     "output_type": "execute_result"
    }
   ],
   "source": [
    "predictors.head()"
   ]
  },
  {
   "cell_type": "code",
   "execution_count": 8,
   "metadata": {
    "button": false,
    "deletable": true,
    "new_sheet": false,
    "run_control": {
     "read_only": false
    }
   },
   "outputs": [
    {
     "data": {
      "text/plain": [
       "0    79.99\n",
       "1    61.89\n",
       "2    40.27\n",
       "3    41.05\n",
       "4    44.30\n",
       "Name: Strength, dtype: float64"
      ]
     },
     "execution_count": 8,
     "metadata": {},
     "output_type": "execute_result"
    }
   ],
   "source": [
    "target.head()"
   ]
  },
  {
   "cell_type": "markdown",
   "metadata": {
    "button": false,
    "deletable": true,
    "new_sheet": false,
    "run_control": {
     "read_only": false
    }
   },
   "source": [
    "Finally, the last step is to normalize the data by substracting the mean and dividing by the standard deviation.\n"
   ]
  },
  {
   "cell_type": "code",
   "execution_count": 9,
   "metadata": {
    "button": false,
    "deletable": true,
    "new_sheet": false,
    "run_control": {
     "read_only": false
    }
   },
   "outputs": [
    {
     "data": {
      "text/html": [
       "<div>\n",
       "<style scoped>\n",
       "    .dataframe tbody tr th:only-of-type {\n",
       "        vertical-align: middle;\n",
       "    }\n",
       "\n",
       "    .dataframe tbody tr th {\n",
       "        vertical-align: top;\n",
       "    }\n",
       "\n",
       "    .dataframe thead th {\n",
       "        text-align: right;\n",
       "    }\n",
       "</style>\n",
       "<table border=\"1\" class=\"dataframe\">\n",
       "  <thead>\n",
       "    <tr style=\"text-align: right;\">\n",
       "      <th></th>\n",
       "      <th>Cement</th>\n",
       "      <th>Blast Furnace Slag</th>\n",
       "      <th>Fly Ash</th>\n",
       "      <th>Water</th>\n",
       "      <th>Superplasticizer</th>\n",
       "      <th>Coarse Aggregate</th>\n",
       "      <th>Fine Aggregate</th>\n",
       "      <th>Age</th>\n",
       "    </tr>\n",
       "  </thead>\n",
       "  <tbody>\n",
       "    <tr>\n",
       "      <th>0</th>\n",
       "      <td>2.476712</td>\n",
       "      <td>-0.856472</td>\n",
       "      <td>-0.846733</td>\n",
       "      <td>-0.916319</td>\n",
       "      <td>-0.620147</td>\n",
       "      <td>0.862735</td>\n",
       "      <td>-1.217079</td>\n",
       "      <td>-0.279597</td>\n",
       "    </tr>\n",
       "    <tr>\n",
       "      <th>1</th>\n",
       "      <td>2.476712</td>\n",
       "      <td>-0.856472</td>\n",
       "      <td>-0.846733</td>\n",
       "      <td>-0.916319</td>\n",
       "      <td>-0.620147</td>\n",
       "      <td>1.055651</td>\n",
       "      <td>-1.217079</td>\n",
       "      <td>-0.279597</td>\n",
       "    </tr>\n",
       "    <tr>\n",
       "      <th>2</th>\n",
       "      <td>0.491187</td>\n",
       "      <td>0.795140</td>\n",
       "      <td>-0.846733</td>\n",
       "      <td>2.174405</td>\n",
       "      <td>-1.038638</td>\n",
       "      <td>-0.526262</td>\n",
       "      <td>-2.239829</td>\n",
       "      <td>3.551340</td>\n",
       "    </tr>\n",
       "    <tr>\n",
       "      <th>3</th>\n",
       "      <td>0.491187</td>\n",
       "      <td>0.795140</td>\n",
       "      <td>-0.846733</td>\n",
       "      <td>2.174405</td>\n",
       "      <td>-1.038638</td>\n",
       "      <td>-0.526262</td>\n",
       "      <td>-2.239829</td>\n",
       "      <td>5.055221</td>\n",
       "    </tr>\n",
       "    <tr>\n",
       "      <th>4</th>\n",
       "      <td>-0.790075</td>\n",
       "      <td>0.678079</td>\n",
       "      <td>-0.846733</td>\n",
       "      <td>0.488555</td>\n",
       "      <td>-1.038638</td>\n",
       "      <td>0.070492</td>\n",
       "      <td>0.647569</td>\n",
       "      <td>4.976069</td>\n",
       "    </tr>\n",
       "  </tbody>\n",
       "</table>\n",
       "</div>"
      ],
      "text/plain": [
       "     Cement  Blast Furnace Slag   Fly Ash     Water  Superplasticizer  \\\n",
       "0  2.476712           -0.856472 -0.846733 -0.916319         -0.620147   \n",
       "1  2.476712           -0.856472 -0.846733 -0.916319         -0.620147   \n",
       "2  0.491187            0.795140 -0.846733  2.174405         -1.038638   \n",
       "3  0.491187            0.795140 -0.846733  2.174405         -1.038638   \n",
       "4 -0.790075            0.678079 -0.846733  0.488555         -1.038638   \n",
       "\n",
       "   Coarse Aggregate  Fine Aggregate       Age  \n",
       "0          0.862735       -1.217079 -0.279597  \n",
       "1          1.055651       -1.217079 -0.279597  \n",
       "2         -0.526262       -2.239829  3.551340  \n",
       "3         -0.526262       -2.239829  5.055221  \n",
       "4          0.070492        0.647569  4.976069  "
      ]
     },
     "execution_count": 9,
     "metadata": {},
     "output_type": "execute_result"
    }
   ],
   "source": [
    "predictors_norm = (predictors - predictors.mean()) / predictors.std()\n",
    "predictors_norm.head()"
   ]
  },
  {
   "cell_type": "markdown",
   "metadata": {},
   "source": [
    "Let's save the number of predictors to *n_cols* since we will need this number when building our network.\n"
   ]
  },
  {
   "cell_type": "code",
   "execution_count": 10,
   "metadata": {
    "button": false,
    "deletable": true,
    "new_sheet": false,
    "run_control": {
     "read_only": false
    }
   },
   "outputs": [],
   "source": [
    "n_cols = predictors_norm.shape[1] # number of predictors"
   ]
  },
  {
   "cell_type": "markdown",
   "metadata": {
    "button": false,
    "deletable": true,
    "new_sheet": false,
    "run_control": {
     "read_only": false
    }
   },
   "source": [
    "<a id=\"item1\"></a>\n"
   ]
  },
  {
   "cell_type": "markdown",
   "metadata": {},
   "source": [
    "<a id='item32'></a>\n"
   ]
  },
  {
   "cell_type": "markdown",
   "metadata": {
    "button": false,
    "deletable": true,
    "new_sheet": false,
    "run_control": {
     "read_only": false
    }
   },
   "source": [
    "## Import Keras\n"
   ]
  },
  {
   "cell_type": "markdown",
   "metadata": {
    "button": false,
    "deletable": true,
    "new_sheet": false,
    "run_control": {
     "read_only": false
    }
   },
   "source": [
    "Recall from the videos that Keras normally runs on top of a low-level library such as TensorFlow. This means that to be able to use the Keras library, you will have to install TensorFlow first and when you import the Keras library, it will be explicitly displayed what backend was used to install the Keras library. In CC Labs, we used TensorFlow as the backend to install Keras, so it should clearly print that when we import Keras.\n"
   ]
  },
  {
   "cell_type": "markdown",
   "metadata": {
    "button": false,
    "deletable": true,
    "new_sheet": false,
    "run_control": {
     "read_only": false
    }
   },
   "source": [
    "#### Let's go ahead and import the Keras library\n"
   ]
  },
  {
   "cell_type": "code",
   "execution_count": 11,
   "metadata": {
    "button": false,
    "deletable": true,
    "new_sheet": false,
    "run_control": {
     "read_only": false
    }
   },
   "outputs": [
    {
     "name": "stderr",
     "output_type": "stream",
     "text": [
      "Using TensorFlow backend.\n",
      "/home/jupyterlab/conda/envs/python/lib/python3.7/site-packages/tensorflow/python/framework/dtypes.py:516: FutureWarning: Passing (type, 1) or '1type' as a synonym of type is deprecated; in a future version of numpy, it will be understood as (type, (1,)) / '(1,)type'.\n",
      "  _np_qint8 = np.dtype([(\"qint8\", np.int8, 1)])\n",
      "/home/jupyterlab/conda/envs/python/lib/python3.7/site-packages/tensorflow/python/framework/dtypes.py:517: FutureWarning: Passing (type, 1) or '1type' as a synonym of type is deprecated; in a future version of numpy, it will be understood as (type, (1,)) / '(1,)type'.\n",
      "  _np_quint8 = np.dtype([(\"quint8\", np.uint8, 1)])\n",
      "/home/jupyterlab/conda/envs/python/lib/python3.7/site-packages/tensorflow/python/framework/dtypes.py:518: FutureWarning: Passing (type, 1) or '1type' as a synonym of type is deprecated; in a future version of numpy, it will be understood as (type, (1,)) / '(1,)type'.\n",
      "  _np_qint16 = np.dtype([(\"qint16\", np.int16, 1)])\n",
      "/home/jupyterlab/conda/envs/python/lib/python3.7/site-packages/tensorflow/python/framework/dtypes.py:519: FutureWarning: Passing (type, 1) or '1type' as a synonym of type is deprecated; in a future version of numpy, it will be understood as (type, (1,)) / '(1,)type'.\n",
      "  _np_quint16 = np.dtype([(\"quint16\", np.uint16, 1)])\n",
      "/home/jupyterlab/conda/envs/python/lib/python3.7/site-packages/tensorflow/python/framework/dtypes.py:520: FutureWarning: Passing (type, 1) or '1type' as a synonym of type is deprecated; in a future version of numpy, it will be understood as (type, (1,)) / '(1,)type'.\n",
      "  _np_qint32 = np.dtype([(\"qint32\", np.int32, 1)])\n",
      "/home/jupyterlab/conda/envs/python/lib/python3.7/site-packages/tensorflow/python/framework/dtypes.py:525: FutureWarning: Passing (type, 1) or '1type' as a synonym of type is deprecated; in a future version of numpy, it will be understood as (type, (1,)) / '(1,)type'.\n",
      "  np_resource = np.dtype([(\"resource\", np.ubyte, 1)])\n",
      "/home/jupyterlab/conda/envs/python/lib/python3.7/site-packages/tensorboard/compat/tensorflow_stub/dtypes.py:541: FutureWarning: Passing (type, 1) or '1type' as a synonym of type is deprecated; in a future version of numpy, it will be understood as (type, (1,)) / '(1,)type'.\n",
      "  _np_qint8 = np.dtype([(\"qint8\", np.int8, 1)])\n",
      "/home/jupyterlab/conda/envs/python/lib/python3.7/site-packages/tensorboard/compat/tensorflow_stub/dtypes.py:542: FutureWarning: Passing (type, 1) or '1type' as a synonym of type is deprecated; in a future version of numpy, it will be understood as (type, (1,)) / '(1,)type'.\n",
      "  _np_quint8 = np.dtype([(\"quint8\", np.uint8, 1)])\n",
      "/home/jupyterlab/conda/envs/python/lib/python3.7/site-packages/tensorboard/compat/tensorflow_stub/dtypes.py:543: FutureWarning: Passing (type, 1) or '1type' as a synonym of type is deprecated; in a future version of numpy, it will be understood as (type, (1,)) / '(1,)type'.\n",
      "  _np_qint16 = np.dtype([(\"qint16\", np.int16, 1)])\n",
      "/home/jupyterlab/conda/envs/python/lib/python3.7/site-packages/tensorboard/compat/tensorflow_stub/dtypes.py:544: FutureWarning: Passing (type, 1) or '1type' as a synonym of type is deprecated; in a future version of numpy, it will be understood as (type, (1,)) / '(1,)type'.\n",
      "  _np_quint16 = np.dtype([(\"quint16\", np.uint16, 1)])\n",
      "/home/jupyterlab/conda/envs/python/lib/python3.7/site-packages/tensorboard/compat/tensorflow_stub/dtypes.py:545: FutureWarning: Passing (type, 1) or '1type' as a synonym of type is deprecated; in a future version of numpy, it will be understood as (type, (1,)) / '(1,)type'.\n",
      "  _np_qint32 = np.dtype([(\"qint32\", np.int32, 1)])\n",
      "/home/jupyterlab/conda/envs/python/lib/python3.7/site-packages/tensorboard/compat/tensorflow_stub/dtypes.py:550: FutureWarning: Passing (type, 1) or '1type' as a synonym of type is deprecated; in a future version of numpy, it will be understood as (type, (1,)) / '(1,)type'.\n",
      "  np_resource = np.dtype([(\"resource\", np.ubyte, 1)])\n"
     ]
    }
   ],
   "source": [
    "import keras"
   ]
  },
  {
   "cell_type": "markdown",
   "metadata": {
    "button": false,
    "deletable": true,
    "new_sheet": false,
    "run_control": {
     "read_only": false
    }
   },
   "source": [
    "As you can see, the TensorFlow backend was used to install the Keras library.\n"
   ]
  },
  {
   "cell_type": "markdown",
   "metadata": {
    "button": false,
    "deletable": true,
    "new_sheet": false,
    "run_control": {
     "read_only": false
    }
   },
   "source": [
    "Let's import the rest of the packages from the Keras library that we will need to build our regressoin model.\n"
   ]
  },
  {
   "cell_type": "code",
   "execution_count": 12,
   "metadata": {
    "button": false,
    "deletable": true,
    "new_sheet": false,
    "run_control": {
     "read_only": false
    }
   },
   "outputs": [],
   "source": [
    "from keras.models import Sequential\n",
    "from keras.layers import Dense"
   ]
  },
  {
   "cell_type": "markdown",
   "metadata": {},
   "source": [
    "<a id='item33'></a>\n"
   ]
  },
  {
   "cell_type": "markdown",
   "metadata": {
    "button": false,
    "deletable": true,
    "new_sheet": false,
    "run_control": {
     "read_only": false
    }
   },
   "source": [
    "## Build a Neural Network\n"
   ]
  },
  {
   "cell_type": "markdown",
   "metadata": {
    "button": false,
    "deletable": true,
    "new_sheet": false,
    "run_control": {
     "read_only": false
    }
   },
   "source": [
    "Let's define a function that defines our regression model for us so that we can conveniently call it to create our model.\n"
   ]
  },
  {
   "cell_type": "code",
   "execution_count": 20,
   "metadata": {
    "button": false,
    "deletable": true,
    "new_sheet": false,
    "run_control": {
     "read_only": false
    }
   },
   "outputs": [],
   "source": [
    "# define regression model\n",
    "def regression_model():\n",
    "    # create model\n",
    "    model = Sequential()\n",
    "    model.add(Dense(50, activation='relu', input_shape=(n_cols,)))\n",
    "    model.add(Dense(50, activation='relu'))\n",
    "    model.add(Dense(1))\n",
    "    \n",
    "    # compile model\n",
    "    model.compile(optimizer='adam', loss='mean_squared_error',metrics=['accuracy'])\n",
    "    return model"
   ]
  },
  {
   "cell_type": "markdown",
   "metadata": {},
   "source": [
    "The above function create a model that has two hidden layers, each of 50 hidden units.\n"
   ]
  },
  {
   "cell_type": "markdown",
   "metadata": {
    "button": false,
    "deletable": true,
    "new_sheet": false,
    "run_control": {
     "read_only": false
    }
   },
   "source": [
    "<a id=\"item4\"></a>\n"
   ]
  },
  {
   "cell_type": "markdown",
   "metadata": {},
   "source": [
    "<a id='item34'></a>\n"
   ]
  },
  {
   "cell_type": "markdown",
   "metadata": {
    "button": false,
    "deletable": true,
    "new_sheet": false,
    "run_control": {
     "read_only": false
    }
   },
   "source": [
    "## Train and Test the Network\n"
   ]
  },
  {
   "cell_type": "markdown",
   "metadata": {},
   "source": [
    "Let's call the function now to create our model.\n"
   ]
  },
  {
   "cell_type": "code",
   "execution_count": 21,
   "metadata": {
    "button": false,
    "deletable": true,
    "new_sheet": false,
    "run_control": {
     "read_only": false
    }
   },
   "outputs": [],
   "source": [
    "# build the model\n",
    "model = regression_model()"
   ]
  },
  {
   "cell_type": "markdown",
   "metadata": {},
   "source": [
    "Next, we will train and test the model at the same time using the *fit* method. We will leave out 30% of the data for validation and we will train the model for 100 epochs.\n"
   ]
  },
  {
   "cell_type": "code",
   "execution_count": 22,
   "metadata": {},
   "outputs": [
    {
     "name": "stdout",
     "output_type": "stream",
     "text": [
      "Train on 721 samples, validate on 309 samples\n",
      "Epoch 1/100\n",
      "721/721 [==============================] - 0s 658us/step - loss: 1609.8230 - acc: 0.0000e+00 - val_loss: 1096.6334 - val_acc: 0.0000e+00\n",
      "Epoch 2/100\n",
      "721/721 [==============================] - 0s 220us/step - loss: 1449.6798 - acc: 0.0000e+00 - val_loss: 949.8063 - val_acc: 0.0000e+00\n",
      "Epoch 3/100\n",
      "721/721 [==============================] - 0s 238us/step - loss: 1186.1842 - acc: 0.0000e+00 - val_loss: 729.2598 - val_acc: 0.0000e+00\n",
      "Epoch 4/100\n",
      "721/721 [==============================] - 0s 224us/step - loss: 833.0449 - acc: 0.0000e+00 - val_loss: 483.3358 - val_acc: 0.0000e+00\n",
      "Epoch 5/100\n",
      "721/721 [==============================] - 0s 199us/step - loss: 484.3151 - acc: 0.0000e+00 - val_loss: 297.3382 - val_acc: 0.0000e+00\n",
      "Epoch 6/100\n",
      "721/721 [==============================] - 0s 188us/step - loss: 295.6252 - acc: 0.0000e+00 - val_loss: 214.6087 - val_acc: 0.0000e+00\n",
      "Epoch 7/100\n",
      "721/721 [==============================] - 0s 192us/step - loss: 239.7098 - acc: 0.0000e+00 - val_loss: 190.2558 - val_acc: 0.0065\n",
      "Epoch 8/100\n",
      "721/721 [==============================] - 0s 174us/step - loss: 220.7504 - acc: 0.0000e+00 - val_loss: 179.4444 - val_acc: 0.0000e+00\n",
      "Epoch 9/100\n",
      "721/721 [==============================] - 0s 170us/step - loss: 207.9268 - acc: 0.0000e+00 - val_loss: 176.9811 - val_acc: 0.0000e+00\n",
      "Epoch 10/100\n",
      "721/721 [==============================] - 0s 173us/step - loss: 199.2121 - acc: 0.0000e+00 - val_loss: 175.9027 - val_acc: 0.0000e+00\n",
      "Epoch 11/100\n",
      "721/721 [==============================] - 0s 181us/step - loss: 192.1361 - acc: 0.0000e+00 - val_loss: 173.0319 - val_acc: 0.0000e+00\n",
      "Epoch 12/100\n",
      "721/721 [==============================] - 0s 194us/step - loss: 185.8632 - acc: 0.0000e+00 - val_loss: 171.9345 - val_acc: 0.0000e+00\n",
      "Epoch 13/100\n",
      "721/721 [==============================] - 0s 255us/step - loss: 181.3271 - acc: 0.0000e+00 - val_loss: 169.3197 - val_acc: 0.0000e+00\n",
      "Epoch 14/100\n",
      "721/721 [==============================] - 0s 252us/step - loss: 176.2989 - acc: 0.0000e+00 - val_loss: 166.6572 - val_acc: 0.0000e+00\n",
      "Epoch 15/100\n",
      "721/721 [==============================] - 0s 282us/step - loss: 172.4750 - acc: 0.0000e+00 - val_loss: 165.0515 - val_acc: 0.0000e+00\n",
      "Epoch 16/100\n",
      "721/721 [==============================] - 0s 277us/step - loss: 168.4220 - acc: 0.0000e+00 - val_loss: 164.7385 - val_acc: 0.0000e+00\n",
      "Epoch 17/100\n",
      "721/721 [==============================] - 0s 254us/step - loss: 165.6252 - acc: 0.0000e+00 - val_loss: 165.6632 - val_acc: 0.0000e+00\n",
      "Epoch 18/100\n",
      "721/721 [==============================] - 0s 258us/step - loss: 162.2370 - acc: 0.0000e+00 - val_loss: 164.6198 - val_acc: 0.0000e+00\n",
      "Epoch 19/100\n",
      "721/721 [==============================] - 0s 167us/step - loss: 160.3537 - acc: 0.0014 - val_loss: 163.7451 - val_acc: 0.0000e+00\n",
      "Epoch 20/100\n",
      "721/721 [==============================] - 0s 164us/step - loss: 157.6629 - acc: 0.0014 - val_loss: 161.9504 - val_acc: 0.0000e+00\n",
      "Epoch 21/100\n",
      "721/721 [==============================] - 0s 163us/step - loss: 155.2353 - acc: 0.0014 - val_loss: 163.7007 - val_acc: 0.0000e+00\n",
      "Epoch 22/100\n",
      "721/721 [==============================] - 0s 162us/step - loss: 153.2067 - acc: 0.0000e+00 - val_loss: 163.2680 - val_acc: 0.0000e+00\n",
      "Epoch 23/100\n",
      "721/721 [==============================] - 0s 162us/step - loss: 151.2902 - acc: 0.0014 - val_loss: 164.4574 - val_acc: 0.0000e+00\n",
      "Epoch 24/100\n",
      "721/721 [==============================] - 0s 162us/step - loss: 149.8431 - acc: 0.0014 - val_loss: 161.8873 - val_acc: 0.0000e+00\n",
      "Epoch 25/100\n",
      "721/721 [==============================] - 0s 162us/step - loss: 147.5238 - acc: 0.0014 - val_loss: 164.7563 - val_acc: 0.0000e+00\n",
      "Epoch 26/100\n",
      "721/721 [==============================] - 0s 150us/step - loss: 146.6044 - acc: 0.0014 - val_loss: 163.6574 - val_acc: 0.0000e+00\n",
      "Epoch 27/100\n",
      "721/721 [==============================] - 0s 163us/step - loss: 145.0375 - acc: 0.0014 - val_loss: 162.6477 - val_acc: 0.0000e+00\n",
      "Epoch 28/100\n",
      "721/721 [==============================] - 0s 164us/step - loss: 143.4671 - acc: 0.0014 - val_loss: 164.1955 - val_acc: 0.0000e+00\n",
      "Epoch 29/100\n",
      "721/721 [==============================] - 0s 184us/step - loss: 141.8144 - acc: 0.0014 - val_loss: 160.6722 - val_acc: 0.0000e+00\n",
      "Epoch 30/100\n",
      "721/721 [==============================] - 0s 149us/step - loss: 140.4259 - acc: 0.0000e+00 - val_loss: 164.7781 - val_acc: 0.0000e+00\n",
      "Epoch 31/100\n",
      "721/721 [==============================] - 0s 153us/step - loss: 138.7699 - acc: 0.0000e+00 - val_loss: 165.3288 - val_acc: 0.0000e+00\n",
      "Epoch 32/100\n",
      "721/721 [==============================] - 0s 162us/step - loss: 137.5629 - acc: 0.0000e+00 - val_loss: 165.3574 - val_acc: 0.0000e+00\n",
      "Epoch 33/100\n",
      "721/721 [==============================] - 0s 161us/step - loss: 136.2497 - acc: 0.0000e+00 - val_loss: 162.0452 - val_acc: 0.0000e+00\n",
      "Epoch 34/100\n",
      "721/721 [==============================] - 0s 142us/step - loss: 134.8916 - acc: 0.0000e+00 - val_loss: 167.8148 - val_acc: 0.0000e+00\n",
      "Epoch 35/100\n",
      "721/721 [==============================] - 0s 150us/step - loss: 133.6760 - acc: 0.0000e+00 - val_loss: 165.8054 - val_acc: 0.0000e+00\n",
      "Epoch 36/100\n",
      "721/721 [==============================] - 0s 155us/step - loss: 133.0842 - acc: 0.0000e+00 - val_loss: 163.0423 - val_acc: 0.0000e+00\n",
      "Epoch 37/100\n",
      "721/721 [==============================] - 0s 147us/step - loss: 131.7752 - acc: 0.0000e+00 - val_loss: 164.0042 - val_acc: 0.0000e+00\n",
      "Epoch 38/100\n",
      "721/721 [==============================] - 0s 156us/step - loss: 130.1990 - acc: 0.0000e+00 - val_loss: 165.4046 - val_acc: 0.0000e+00\n",
      "Epoch 39/100\n",
      "721/721 [==============================] - 0s 145us/step - loss: 129.3057 - acc: 0.0000e+00 - val_loss: 164.9389 - val_acc: 0.0000e+00\n",
      "Epoch 40/100\n",
      "721/721 [==============================] - 0s 162us/step - loss: 127.6274 - acc: 0.0000e+00 - val_loss: 165.8306 - val_acc: 0.0000e+00\n",
      "Epoch 41/100\n",
      "721/721 [==============================] - 0s 140us/step - loss: 127.5949 - acc: 0.0000e+00 - val_loss: 165.1935 - val_acc: 0.0000e+00\n",
      "Epoch 42/100\n",
      "721/721 [==============================] - 0s 159us/step - loss: 125.9352 - acc: 0.0000e+00 - val_loss: 165.0616 - val_acc: 0.0000e+00\n",
      "Epoch 43/100\n",
      "721/721 [==============================] - 0s 143us/step - loss: 124.5048 - acc: 0.0000e+00 - val_loss: 166.7923 - val_acc: 0.0000e+00\n",
      "Epoch 44/100\n",
      "721/721 [==============================] - 0s 162us/step - loss: 122.9643 - acc: 0.0000e+00 - val_loss: 167.2830 - val_acc: 0.0000e+00\n",
      "Epoch 45/100\n",
      "721/721 [==============================] - 0s 159us/step - loss: 121.7335 - acc: 0.0000e+00 - val_loss: 166.2219 - val_acc: 0.0000e+00\n",
      "Epoch 46/100\n",
      "721/721 [==============================] - 0s 146us/step - loss: 120.2575 - acc: 0.0000e+00 - val_loss: 166.4882 - val_acc: 0.0000e+00\n",
      "Epoch 47/100\n",
      "721/721 [==============================] - 0s 160us/step - loss: 119.6368 - acc: 0.0000e+00 - val_loss: 163.4922 - val_acc: 0.0000e+00\n",
      "Epoch 48/100\n",
      "721/721 [==============================] - 0s 158us/step - loss: 118.6693 - acc: 0.0000e+00 - val_loss: 168.7636 - val_acc: 0.0000e+00\n",
      "Epoch 49/100\n",
      "721/721 [==============================] - 0s 149us/step - loss: 116.7499 - acc: 0.0000e+00 - val_loss: 163.3364 - val_acc: 0.0000e+00\n",
      "Epoch 50/100\n",
      "721/721 [==============================] - 0s 157us/step - loss: 115.8654 - acc: 0.0000e+00 - val_loss: 162.7631 - val_acc: 0.0000e+00\n",
      "Epoch 51/100\n",
      "721/721 [==============================] - 0s 142us/step - loss: 114.1627 - acc: 0.0000e+00 - val_loss: 164.5184 - val_acc: 0.0000e+00\n",
      "Epoch 52/100\n",
      "721/721 [==============================] - 0s 142us/step - loss: 112.8296 - acc: 0.0000e+00 - val_loss: 161.6801 - val_acc: 0.0000e+00\n",
      "Epoch 53/100\n",
      "721/721 [==============================] - 0s 151us/step - loss: 110.9571 - acc: 0.0000e+00 - val_loss: 162.9279 - val_acc: 0.0000e+00\n",
      "Epoch 54/100\n",
      "721/721 [==============================] - 0s 152us/step - loss: 109.6800 - acc: 0.0000e+00 - val_loss: 159.1012 - val_acc: 0.0000e+00\n",
      "Epoch 55/100\n",
      "721/721 [==============================] - 0s 148us/step - loss: 107.8658 - acc: 0.0000e+00 - val_loss: 161.6592 - val_acc: 0.0000e+00\n",
      "Epoch 56/100\n",
      "721/721 [==============================] - 0s 162us/step - loss: 106.3924 - acc: 0.0000e+00 - val_loss: 161.7581 - val_acc: 0.0000e+00\n",
      "Epoch 57/100\n",
      "721/721 [==============================] - 0s 139us/step - loss: 104.6208 - acc: 0.0000e+00 - val_loss: 152.5455 - val_acc: 0.0000e+00\n",
      "Epoch 58/100\n",
      "721/721 [==============================] - 0s 137us/step - loss: 102.8461 - acc: 0.0000e+00 - val_loss: 162.2540 - val_acc: 0.0000e+00\n",
      "Epoch 59/100\n",
      "721/721 [==============================] - 0s 139us/step - loss: 101.1231 - acc: 0.0000e+00 - val_loss: 153.1761 - val_acc: 0.0000e+00\n",
      "Epoch 60/100\n",
      "721/721 [==============================] - 0s 142us/step - loss: 98.6207 - acc: 0.0000e+00 - val_loss: 152.5649 - val_acc: 0.0000e+00\n",
      "Epoch 61/100\n",
      "721/721 [==============================] - 0s 140us/step - loss: 96.5156 - acc: 0.0000e+00 - val_loss: 155.7701 - val_acc: 0.0000e+00\n",
      "Epoch 62/100\n",
      "721/721 [==============================] - 0s 139us/step - loss: 93.8764 - acc: 0.0000e+00 - val_loss: 148.6208 - val_acc: 0.0000e+00\n",
      "Epoch 63/100\n",
      "721/721 [==============================] - 0s 155us/step - loss: 91.7952 - acc: 0.0000e+00 - val_loss: 147.4825 - val_acc: 0.0032\n",
      "Epoch 64/100\n",
      "721/721 [==============================] - 0s 138us/step - loss: 89.6702 - acc: 0.0000e+00 - val_loss: 148.2400 - val_acc: 0.0032\n",
      "Epoch 65/100\n",
      "721/721 [==============================] - 0s 144us/step - loss: 87.4139 - acc: 0.0000e+00 - val_loss: 146.3116 - val_acc: 0.0000e+00\n",
      "Epoch 66/100\n",
      "721/721 [==============================] - 0s 138us/step - loss: 84.1773 - acc: 0.0000e+00 - val_loss: 143.0209 - val_acc: 0.0000e+00\n",
      "Epoch 67/100\n",
      "721/721 [==============================] - 0s 139us/step - loss: 81.1404 - acc: 0.0000e+00 - val_loss: 145.1069 - val_acc: 0.0000e+00\n",
      "Epoch 68/100\n",
      "721/721 [==============================] - 0s 145us/step - loss: 78.5744 - acc: 0.0000e+00 - val_loss: 140.2141 - val_acc: 0.0000e+00\n",
      "Epoch 69/100\n",
      "721/721 [==============================] - 0s 135us/step - loss: 76.8974 - acc: 0.0000e+00 - val_loss: 141.8911 - val_acc: 0.0000e+00\n",
      "Epoch 70/100\n",
      "721/721 [==============================] - 0s 140us/step - loss: 74.4383 - acc: 0.0000e+00 - val_loss: 140.2929 - val_acc: 0.0000e+00\n",
      "Epoch 71/100\n",
      "721/721 [==============================] - 0s 140us/step - loss: 71.5773 - acc: 0.0000e+00 - val_loss: 141.7643 - val_acc: 0.0000e+00\n",
      "Epoch 72/100\n",
      "721/721 [==============================] - 0s 138us/step - loss: 70.4348 - acc: 0.0000e+00 - val_loss: 146.3226 - val_acc: 0.0000e+00\n",
      "Epoch 73/100\n",
      "721/721 [==============================] - 0s 126us/step - loss: 67.4778 - acc: 0.0000e+00 - val_loss: 139.2551 - val_acc: 0.0000e+00\n",
      "Epoch 74/100\n",
      "721/721 [==============================] - 0s 140us/step - loss: 65.5136 - acc: 0.0000e+00 - val_loss: 139.1681 - val_acc: 0.0000e+00\n",
      "Epoch 75/100\n",
      "721/721 [==============================] - 0s 139us/step - loss: 63.1461 - acc: 0.0014 - val_loss: 136.3925 - val_acc: 0.0000e+00\n",
      "Epoch 76/100\n",
      "721/721 [==============================] - 0s 136us/step - loss: 62.4329 - acc: 0.0000e+00 - val_loss: 136.0850 - val_acc: 0.0000e+00\n",
      "Epoch 77/100\n",
      "721/721 [==============================] - ETA: 0s - loss: 59.7922 - acc: 0.0000e+ - 0s 139us/step - loss: 59.8629 - acc: 0.0000e+00 - val_loss: 129.4874 - val_acc: 0.0000e+00\n",
      "Epoch 78/100\n",
      "721/721 [==============================] - 0s 141us/step - loss: 57.7778 - acc: 0.0000e+00 - val_loss: 134.4848 - val_acc: 0.0000e+00\n",
      "Epoch 79/100\n",
      "721/721 [==============================] - 0s 140us/step - loss: 55.8398 - acc: 0.0014 - val_loss: 132.4297 - val_acc: 0.0000e+00\n",
      "Epoch 80/100\n",
      "721/721 [==============================] - 0s 125us/step - loss: 54.5518 - acc: 0.0014 - val_loss: 126.2525 - val_acc: 0.0000e+00\n",
      "Epoch 81/100\n",
      "721/721 [==============================] - 0s 142us/step - loss: 52.7276 - acc: 0.0000e+00 - val_loss: 133.2577 - val_acc: 0.0000e+00\n",
      "Epoch 82/100\n",
      "721/721 [==============================] - 0s 138us/step - loss: 51.6272 - acc: 0.0000e+00 - val_loss: 130.8218 - val_acc: 0.0000e+00\n",
      "Epoch 83/100\n",
      "721/721 [==============================] - 0s 137us/step - loss: 50.8330 - acc: 0.0014 - val_loss: 136.7819 - val_acc: 0.0000e+00\n",
      "Epoch 84/100\n",
      "721/721 [==============================] - 0s 144us/step - loss: 49.4905 - acc: 0.0014 - val_loss: 126.4898 - val_acc: 0.0000e+00\n",
      "Epoch 85/100\n",
      "721/721 [==============================] - 0s 135us/step - loss: 47.9996 - acc: 0.0000e+00 - val_loss: 140.4816 - val_acc: 0.0000e+00\n",
      "Epoch 86/100\n",
      "721/721 [==============================] - 0s 138us/step - loss: 47.6995 - acc: 0.0000e+00 - val_loss: 123.8664 - val_acc: 0.0000e+00\n",
      "Epoch 87/100\n",
      "721/721 [==============================] - ETA: 0s - loss: 45.8734 - acc: 0.0000e+ - 0s 137us/step - loss: 46.5453 - acc: 0.0000e+00 - val_loss: 129.6496 - val_acc: 0.0000e+00\n",
      "Epoch 88/100\n",
      "721/721 [==============================] - 0s 139us/step - loss: 45.5414 - acc: 0.0014 - val_loss: 128.8585 - val_acc: 0.0000e+00\n",
      "Epoch 89/100\n",
      "721/721 [==============================] - 0s 138us/step - loss: 44.4680 - acc: 0.0000e+00 - val_loss: 130.7356 - val_acc: 0.0000e+00\n",
      "Epoch 90/100\n",
      "721/721 [==============================] - 0s 139us/step - loss: 43.2840 - acc: 0.0000e+00 - val_loss: 132.2592 - val_acc: 0.0000e+00\n",
      "Epoch 91/100\n",
      "721/721 [==============================] - 0s 134us/step - loss: 42.5005 - acc: 0.0000e+00 - val_loss: 129.4083 - val_acc: 0.0000e+00\n",
      "Epoch 92/100\n",
      "721/721 [==============================] - 0s 138us/step - loss: 41.7033 - acc: 0.0000e+00 - val_loss: 129.0633 - val_acc: 0.0000e+00\n",
      "Epoch 93/100\n",
      "721/721 [==============================] - 0s 139us/step - loss: 41.1401 - acc: 0.0028 - val_loss: 126.5111 - val_acc: 0.0000e+00\n",
      "Epoch 94/100\n",
      "721/721 [==============================] - 0s 147us/step - loss: 40.3657 - acc: 0.0014 - val_loss: 136.2007 - val_acc: 0.0000e+00\n",
      "Epoch 95/100\n",
      "721/721 [==============================] - 0s 136us/step - loss: 39.5626 - acc: 0.0014 - val_loss: 129.9632 - val_acc: 0.0000e+00\n",
      "Epoch 96/100\n",
      "721/721 [==============================] - 0s 169us/step - loss: 39.1058 - acc: 0.0014 - val_loss: 137.4441 - val_acc: 0.0000e+00\n",
      "Epoch 97/100\n",
      "721/721 [==============================] - 0s 135us/step - loss: 38.7932 - acc: 0.0000e+00 - val_loss: 139.1897 - val_acc: 0.0000e+00\n",
      "Epoch 98/100\n",
      "721/721 [==============================] - 0s 137us/step - loss: 37.9162 - acc: 0.0014 - val_loss: 129.3881 - val_acc: 0.0000e+00\n",
      "Epoch 99/100\n",
      "721/721 [==============================] - 0s 143us/step - loss: 37.5930 - acc: 0.0014 - val_loss: 125.7438 - val_acc: 0.0000e+00\n",
      "Epoch 100/100\n",
      "721/721 [==============================] - 0s 133us/step - loss: 36.5654 - acc: 0.0014 - val_loss: 129.4264 - val_acc: 0.0000e+00\n"
     ]
    },
    {
     "data": {
      "text/plain": [
       "<keras.callbacks.History at 0x7f31a022d350>"
      ]
     },
     "execution_count": 22,
     "metadata": {},
     "output_type": "execute_result"
    }
   ],
   "source": [
    "# fit the model\n",
    "model.fit(predictors_norm, target, validation_split=0.3, epochs=100, verbose=1)"
   ]
  },
  {
   "cell_type": "markdown",
   "metadata": {
    "button": false,
    "deletable": true,
    "new_sheet": false,
    "run_control": {
     "read_only": false
    }
   },
   "source": [
    "<strong>You can refer to this [link](https://keras.io/models/sequential/?utm_medium=Exinfluencer&utm_source=Exinfluencer&utm_content=000026UJ&utm_term=10006555&utm_id=NA-SkillsNetwork-Channel-SkillsNetworkCoursesIBMDeveloperSkillsNetworkDL0101ENSkillsNetwork20718188-2021-01-01) to learn about other functions that you can use for prediction or evaluation.</strong>\n"
   ]
  },
  {
   "cell_type": "markdown",
   "metadata": {
    "button": false,
    "deletable": true,
    "new_sheet": false,
    "run_control": {
     "read_only": false
    }
   },
   "source": [
    "Feel free to vary the following and note what impact each change has on the model's performance:\n",
    "\n",
    "1.  Increase or decreate number of neurons in hidden layers\n",
    "2.  Add more hidden layers\n",
    "3.  Increase number of epochs\n"
   ]
  },
  {
   "cell_type": "markdown",
   "metadata": {
    "button": false,
    "deletable": true,
    "new_sheet": false,
    "run_control": {
     "read_only": false
    }
   },
   "source": [
    "### Thank you for completing this lab!\n",
    "\n",
    "This notebook was created by [Alex Aklson](https://www.linkedin.com/in/aklson/?utm_medium=Exinfluencer&utm_source=Exinfluencer&utm_content=000026UJ&utm_term=10006555&utm_id=NA-SkillsNetwork-Channel-SkillsNetworkCoursesIBMDeveloperSkillsNetworkDL0101ENSkillsNetwork20718188-2021-01-01). I hope you found this lab interesting and educational. Feel free to contact me if you have any questions!\n"
   ]
  },
  {
   "cell_type": "markdown",
   "metadata": {},
   "source": [
    "## Change Log\n",
    "\n",
    "| Date (YYYY-MM-DD) | Version | Changed By | Change Description                                          |\n",
    "| ----------------- | ------- | ---------- | ----------------------------------------------------------- |\n",
    "| 2020-09-21        | 2.0     | Srishti    | Migrated Lab to Markdown and added to course repo in GitLab |\n",
    "\n",
    "<hr>\n",
    "\n",
    "## <h3 align=\"center\"> © IBM Corporation 2020. All rights reserved. <h3/>\n"
   ]
  },
  {
   "cell_type": "markdown",
   "metadata": {
    "button": false,
    "deletable": true,
    "new_sheet": false,
    "run_control": {
     "read_only": false
    }
   },
   "source": [
    "This notebook is part of a course on **Coursera** called *Introduction to Deep Learning & Neural Networks with Keras*. If you accessed this notebook outside the course, you can take this course online by clicking [here](https://cocl.us/DL0101EN_Coursera_Week3\\_LAB1).\n"
   ]
  },
  {
   "cell_type": "markdown",
   "metadata": {
    "button": false,
    "deletable": true,
    "new_sheet": false,
    "run_control": {
     "read_only": false
    }
   },
   "source": [
    "<hr>\n",
    "\n",
    "Copyright © 2019 [IBM Developer Skills Network](https://cognitiveclass.ai/?utm_medium=dswb&utm_source=bducopyrightlink&utm_content=000026UJ&utm_term=10006555&utm_id=NA-SkillsNetwork-Channel-SkillsNetworkCoursesIBMDeveloperSkillsNetworkDL0101ENSkillsNetwork20718188-2021-01-01&utm_campaign=bdu). This notebook and its source code are released under the terms of the [MIT License](https://bigdatauniversity.com/mit-license/?utm_medium=Exinfluencer&utm_source=Exinfluencer&utm_content=000026UJ&utm_term=10006555&utm_id=NA-SkillsNetwork-Channel-SkillsNetworkCoursesIBMDeveloperSkillsNetworkDL0101ENSkillsNetwork20718188-2021-01-01).\n"
   ]
  }
 ],
 "metadata": {
  "kernelspec": {
   "display_name": "Python",
   "language": "python",
   "name": "conda-env-python-py"
  },
  "language_info": {
   "codemirror_mode": {
    "name": "ipython",
    "version": 3
   },
   "file_extension": ".py",
   "mimetype": "text/x-python",
   "name": "python",
   "nbconvert_exporter": "python",
   "pygments_lexer": "ipython3",
   "version": "3.7.12"
  }
 },
 "nbformat": 4,
 "nbformat_minor": 4
}
